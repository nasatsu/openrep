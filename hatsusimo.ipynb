{
  "nbformat": 4,
  "nbformat_minor": 0,
  "metadata": {
    "colab": {
      "provenance": []
    },
    "kernelspec": {
      "name": "python3",
      "display_name": "Python 3"
    },
    "language_info": {
      "name": "python"
    }
  },
  "cells": [
    {
      "cell_type": "markdown",
      "source": [],
      "metadata": {
        "id": "X0VgKpghzidu"
      }
    },
    {
      "cell_type": "code",
      "source": [
        "import pandas as pd\n",
        "import numpy as np\n",
        "import matplotlib.pyplot as plt\n",
        "\n",
        "df = pd.read_csv(\"2024_data.csv\")\n",
        "#print(df)\n",
        "endpoint = -1\n",
        "\n",
        "temp = df[\"temperature\"][:endpoint]\n",
        "wind = df[\"windspeed\"][:endpoint]\n",
        "hour = df[\"hour\"][:endpoint]\n",
        "weather = df[\"weather\"][:endpoint]\n",
        "humidity = df[\"humidity\"][:endpoint]\n",
        "####2晴、4曇、10雨、8霧、15雷、11みぞれ、12雪\n",
        "\n",
        "print(weather)\n",
        "temp6 = temp[5::24]\n",
        "hour6 = hour[5::24]\n",
        "weather6 = weather[5::24]\n",
        "wind6 = wind[5::24]\n",
        "humidity6 = humidity[5::24]\n",
        "C4temp = np.full_like(temp6,4.5)\n",
        "# C3temp = np.full_like(temp6,3)\n",
        "# C2temp = np.full_like(temp6,2)\n",
        "# C1temp = np.full_like(temp6,1)\n",
        "\n",
        "hoursimo = hour6[temp6<=4.5][weather6!=10][weather6!=11][weather6!=12][weather6!=15]\n",
        "tempsimo = temp6[temp6<=4.5][weather6!=10][weather6!=11][weather6!=12][weather6!=15]\n",
        "whethersimo = weather6[temp6<=4.5][weather6!=10][weather6!=11][weather6!=12][weather6!=15]\n",
        "windsimo = wind6[temp6<=4.5][weather6!=10][weather6!=11][weather6!=12][weather6!=15]\n",
        "humidsimo = humidity6[temp6<=4.5][weather6!=10][weather6!=11][weather6!=12][weather6!=15]\n",
        "htw = pd.DataFrame({\"hour\":hoursimo,\"temp\":tempsimo,\"wind\":windsimo,\"humidity\":humidsimo,\"weather\":whethersimo})\n",
        "# htw.to_csv(\"2024_06hour_data.csv\")\n",
        "print(htw)\n",
        "\n",
        "\n",
        "fig = plt.figure()\n",
        "ax = fig.add_subplot(111)\n",
        "# T6 = ax.plot(hour6,temp6)\n",
        "# H6 = ax.plot(hour6,humidity6)\n",
        "W6 = ax.plot(hour6,wind6)\n",
        "\n",
        "# C4 = ax.plot(hour6,C4temp)\n",
        "# C3 = ax.plot(hour6,C3temp)\n",
        "# C2 = ax.plot(hour6,C2temp)\n",
        "# C1 = ax.plot(hour6,C1temp)\n",
        "# end = ax.plot(np.full_like(np.arange(-1,20,1),59),np.arange(-1,20,1))\n",
        "plt.xticks(hour6[::20])\n",
        "plt.show()\n",
        "\n"
      ],
      "metadata": {
        "id": "-dZ19jOfVUWT"
      },
      "execution_count": null,
      "outputs": []
    }
  ]
}