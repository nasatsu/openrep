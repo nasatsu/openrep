{
  "nbformat": 4,
  "nbformat_minor": 0,
  "metadata": {
    "colab": {
      "provenance": []
    },
    "kernelspec": {
      "name": "python3",
      "display_name": "Python 3"
    },
    "language_info": {
      "name": "python"
    }
  },
  "cells": [
    {
      "cell_type": "markdown",
      "source": [],
      "metadata": {
        "id": "X0VgKpghzidu"
      }
    },
    {
      "cell_type": "code",
      "source": [
        "import pandas as pd\n",
        "import numpy as np\n",
        "print(np.arange(1,100,1))"
      ],
      "metadata": {
        "id": "-dZ19jOfVUWT"
      },
      "execution_count": null,
      "outputs": []
    }
  ]
}
